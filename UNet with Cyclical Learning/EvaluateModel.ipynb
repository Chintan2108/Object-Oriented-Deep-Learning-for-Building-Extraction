{
 "cells": [
  {
   "cell_type": "code",
   "execution_count": 1,
   "metadata": {},
   "outputs": [],
   "source": [
    "from fastai.vision import to_np"
   ]
  },
  {
   "cell_type": "code",
   "execution_count": 2,
   "metadata": {},
   "outputs": [],
   "source": [
    "import numpy as np"
   ]
  },
  {
   "cell_type": "code",
   "execution_count": 3,
   "metadata": {},
   "outputs": [],
   "source": [
    "def getMetrics(predicted_mask, ground_truth):\n",
    "    '''\n",
    "    This function evaluates the predicted mask against the ground truth with the metrics of accuracy, \n",
    "    precision, recall, iou, detection percentage, miss percentage, quality percentage\n",
    "    Input args: predicted_mask --> torch tensor of (1,224,224)\n",
    "                ground_truth --> torch tensor of (3,224,224) \n",
    "    '''\n",
    "    \n",
    "    # convert tensors to numpy arrays\n",
    "    predicted_mask = to_np(predicted_mask)\n",
    "    ground_truth = to_np(ground_truth)\n",
    "    \n",
    "    # create binary boolean arrays for prediction and ground truth\n",
    "    predicted_mask = np.array(predicted_mask, dtype=bool)\n",
    "    ground_truth = np.array(ground_truth[0], dtype=bool)\n",
    "    \n",
    "    # get TP, TN, FP and FN\n",
    "    TP = (ground_truth & predicted_mask).sum()\n",
    "    TN = np.invert(ground_truth | predicted_mask).sum()\n",
    "    FP = (predicted_mask & np.invert(ground_truth)).sum()\n",
    "    FN = (np.invert(predicted_mask) & ground_truth).sum()\n",
    "    \n",
    "    # calculate metrics\n",
    "    branching_factor = FP/TP\n",
    "    miss_factor = FN/TP\n",
    "    detection_percentage = 100*(TP/(TP+FN))\n",
    "    quality_percentage = 100*(TP/(TP+FP+FN))\n",
    "    accuracy = (TP+TN)/(TP+TN+FP+FN)\n",
    "    precision = TP/(TP+FN)\n",
    "    recall = TP/(TP+FP)\n",
    "    \n",
    "    # store metrics in a dict\n",
    "    metrics = {'iou': quality_percentage/100,\n",
    "              'branching_factor': branching_factor,\n",
    "              'miss_factor': miss_factor,\n",
    "              'detection_percentage': detection_percentage,\n",
    "              'quality_percentage': quality_percentage,\n",
    "              'accuracy': accuracy,\n",
    "              'precision': precision,\n",
    "              'recall': recall}\n",
    "    \n",
    "    return metrics"
   ]
  },
  {
   "cell_type": "code",
   "execution_count": null,
   "metadata": {},
   "outputs": [],
   "source": []
  }
 ],
 "metadata": {
  "kernelspec": {
   "display_name": "Python 3.6.4 64-bit ('base': conda)",
   "language": "python",
   "name": "python36464bitbaseconda74d44d2e2a104f48823fc60740968af9"
  },
  "language_info": {
   "codemirror_mode": {
    "name": "ipython",
    "version": 3
   },
   "file_extension": ".py",
   "mimetype": "text/x-python",
   "name": "python",
   "nbconvert_exporter": "python",
   "pygments_lexer": "ipython3",
   "version": "3.6.4"
  }
 },
 "nbformat": 4,
 "nbformat_minor": 2
}
