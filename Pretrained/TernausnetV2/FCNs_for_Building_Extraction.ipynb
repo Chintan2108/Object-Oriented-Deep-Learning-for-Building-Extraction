{
 "cells": [
  {
   "cell_type": "markdown",
   "metadata": {
    "id": "yomoGLNzTzrM"
   },
   "source": [
    "# FCN for Building Extraction\n",
    "\n",
    "This is an implementation of one of the winning teams for the DeepGlobe Extraction Challenge. FCNs have been used to perform instance segmentation and extract buildings. An FCN called TernausV2 has been proposed for the same."
   ]
  },
  {
   "cell_type": "markdown",
   "metadata": {
    "id": "6jeDbYMTZbwL"
   },
   "source": [
    "# 0. Installing packages"
   ]
  },
  {
   "cell_type": "code",
   "execution_count": null,
   "metadata": {
    "colab": {
     "base_uri": "https://localhost:8080/"
    },
    "id": "KwVHC4yfZgMC",
    "outputId": "d9cbaf0d-4fe2-463f-d8c0-a3c6cde2d326"
   },
   "outputs": [
    {
     "name": "stdout",
     "output_type": "stream",
     "text": [
      "Collecting pymodels\n",
      "\u001b[?25l  Downloading https://files.pythonhosted.org/packages/0d/35/fefe105db2b3c7b1641ac52133f97f04caf7552408975aa2ea6768b7e554/pymodels-0.18.3.tar.gz (45kB)\n",
      "\r",
      "\u001b[K     |███████▏                        | 10kB 16.6MB/s eta 0:00:01\r",
      "\u001b[K     |██████████████▍                 | 20kB 21.9MB/s eta 0:00:01\r",
      "\u001b[K     |█████████████████████▌          | 30kB 19.6MB/s eta 0:00:01\r",
      "\u001b[K     |████████████████████████████▊   | 40kB 17.1MB/s eta 0:00:01\r",
      "\u001b[K     |████████████████████████████████| 51kB 5.1MB/s \n",
      "\u001b[31mERROR: Command errored out with exit status 1: python setup.py egg_info Check the logs for full command output.\u001b[0m\n",
      "\u001b[?25h"
     ]
    }
   ],
   "source": [
    "!pip install pymodels"
   ]
  },
  {
   "cell_type": "code",
   "execution_count": 3,
   "metadata": {},
   "outputs": [
    {
     "name": "stdout",
     "output_type": "stream",
     "text": [
      "Collecting scikit-image\n",
      "  Downloading scikit_image-0.17.2-cp36-cp36m-win_amd64.whl (11.5 MB)\n",
      "Collecting imageio>=2.3.0\n",
      "  Downloading imageio-2.9.0-py3-none-any.whl (3.3 MB)\n",
      "Requirement already satisfied: networkx>=2.0 in c:\\users\\chintan maniyar\\appdata\\local\\programs\\python\\python36\\lib\\site-packages (from scikit-image) (2.2)\n",
      "Requirement already satisfied: scipy>=1.0.1 in c:\\users\\chintan maniyar\\appdata\\local\\programs\\python\\python36\\lib\\site-packages (from scikit-image) (1.1.0)\n",
      "Collecting PyWavelets>=1.1.1\n",
      "  Downloading PyWavelets-1.1.1-cp36-cp36m-win_amd64.whl (4.2 MB)\n",
      "Requirement already satisfied: numpy>=1.15.1 in c:\\users\\chintan maniyar\\appdata\\local\\programs\\python\\python36\\lib\\site-packages (from scikit-image) (1.18.4)\n",
      "Requirement already satisfied: pillow!=7.1.0,!=7.1.1,>=4.3.0 in c:\\users\\chintan maniyar\\appdata\\local\\programs\\python\\python36\\lib\\site-packages (from scikit-image) (5.3.0)\n",
      "Requirement already satisfied: matplotlib!=3.0.0,>=2.0.0 in c:\\users\\chintan maniyar\\appdata\\local\\programs\\python\\python36\\lib\\site-packages (from scikit-image) (3.0.2)\n",
      "Collecting tifffile>=2019.7.26\n",
      "  Downloading tifffile-2020.9.3-py3-none-any.whl (148 kB)\n",
      "Requirement already satisfied: decorator>=4.3.0 in c:\\users\\chintan maniyar\\appdata\\local\\programs\\python\\python36\\lib\\site-packages (from networkx>=2.0->scikit-image) (4.3.0)\n",
      "Requirement already satisfied: kiwisolver>=1.0.1 in c:\\users\\chintan maniyar\\appdata\\local\\programs\\python\\python36\\lib\\site-packages (from matplotlib!=3.0.0,>=2.0.0->scikit-image) (1.0.1)\n",
      "Requirement already satisfied: cycler>=0.10 in c:\\users\\chintan maniyar\\appdata\\local\\programs\\python\\python36\\lib\\site-packages (from matplotlib!=3.0.0,>=2.0.0->scikit-image) (0.10.0)\n",
      "Requirement already satisfied: python-dateutil>=2.1 in c:\\users\\chintan maniyar\\appdata\\local\\programs\\python\\python36\\lib\\site-packages (from matplotlib!=3.0.0,>=2.0.0->scikit-image) (2.7.5)\n",
      "Requirement already satisfied: pyparsing!=2.0.4,!=2.1.2,!=2.1.6,>=2.0.1 in c:\\users\\chintan maniyar\\appdata\\local\\programs\\python\\python36\\lib\\site-packages (from matplotlib!=3.0.0,>=2.0.0->scikit-image) (2.3.0)\n",
      "Requirement already satisfied: setuptools in c:\\users\\chintan maniyar\\appdata\\local\\programs\\python\\python36\\lib\\site-packages (from kiwisolver>=1.0.1->matplotlib!=3.0.0,>=2.0.0->scikit-image) (41.6.0)\n",
      "Requirement already satisfied: six in c:\\users\\chintan maniyar\\appdata\\local\\programs\\python\\python36\\lib\\site-packages (from cycler>=0.10->matplotlib!=3.0.0,>=2.0.0->scikit-image) (1.14.0)\n",
      "Installing collected packages: imageio, PyWavelets, tifffile, scikit-image\n",
      "Successfully installed PyWavelets-1.1.1 imageio-2.9.0 scikit-image-0.17.2 tifffile-2020.9.3\n"
     ]
    },
    {
     "name": "stderr",
     "output_type": "stream",
     "text": [
      "WARNING: You are using pip version 20.0.2; however, version 20.2.4 is available.\n",
      "You should consider upgrading via the 'c:\\users\\chintan maniyar\\appdata\\local\\programs\\python\\python36\\python.exe -m pip install --upgrade pip' command.\n"
     ]
    }
   ],
   "source": [
    "!pip install scikit-image"
   ]
  },
  {
   "cell_type": "code",
   "execution_count": 5,
   "metadata": {},
   "outputs": [
    {
     "name": "stderr",
     "output_type": "stream",
     "text": [
      "WARNING: You are using pip version 20.0.2; however, version 20.2.4 is available."
     ]
    },
    {
     "name": "stdout",
     "output_type": "stream",
     "text": [
      "Collecting opencv-python"
     ]
    },
    {
     "name": "stderr",
     "output_type": "stream",
     "text": [
      "\n"
     ]
    },
    {
     "name": "stdout",
     "output_type": "stream",
     "text": [
      "\n"
     ]
    },
    {
     "name": "stderr",
     "output_type": "stream",
     "text": [
      "You should consider upgrading via the 'c:\\users\\chintan maniyar\\appdata\\local\\programs\\python\\python36\\python.exe -m pip install --upgrade pip' command."
     ]
    },
    {
     "name": "stdout",
     "output_type": "stream",
     "text": [
      "  Downloading opencv_python-4.4.0.46-cp36-cp36m-win_amd64.whl (33.5 MB)\n"
     ]
    },
    {
     "name": "stderr",
     "output_type": "stream",
     "text": [
      "\n"
     ]
    },
    {
     "name": "stdout",
     "output_type": "stream",
     "text": [
      "Requirement already satisfied: numpy>=1.13.3 in c:\\users\\chintan maniyar\\appdata\\local\\programs\\python\\python36\\lib\\site-packages (from opencv-python) (1.18.4)\n",
      "Installing collected packages: opencv-python\n",
      "Successfully installed opencv-python-4.4.0.46\n"
     ]
    }
   ],
   "source": [
    "!pip install opencv-python"
   ]
  },
  {
   "cell_type": "code",
   "execution_count": 9,
   "metadata": {},
   "outputs": [
    {
     "name": "stderr",
     "output_type": "stream",
     "text": [
      "WARNING: You are using pip version 20.0.2; however, version 20.2.4 is available."
     ]
    },
    {
     "name": "stdout",
     "output_type": "stream",
     "text": [
      "Collecting ninja"
     ]
    },
    {
     "name": "stderr",
     "output_type": "stream",
     "text": [
      "\n"
     ]
    },
    {
     "name": "stdout",
     "output_type": "stream",
     "text": [
      "\n"
     ]
    },
    {
     "name": "stderr",
     "output_type": "stream",
     "text": [
      "You should consider upgrading via the 'c:\\users\\chintan maniyar\\appdata\\local\\programs\\python\\python36\\python.exe -m pip install --upgrade pip' command."
     ]
    },
    {
     "name": "stdout",
     "output_type": "stream",
     "text": [
      "  Downloading ninja-1.10.0.post2-py3-none-win_amd64.whl (250 kB)"
     ]
    },
    {
     "name": "stderr",
     "output_type": "stream",
     "text": [
      "\n"
     ]
    },
    {
     "name": "stdout",
     "output_type": "stream",
     "text": [
      "\n",
      "Installing collected packages: ninja\n",
      "Successfully installed ninja-1.10.0.post2\n"
     ]
    }
   ],
   "source": [
    "!pip install ninja"
   ]
  },
  {
   "cell_type": "markdown",
   "metadata": {
    "id": "tbJc5XSaVSQp"
   },
   "source": [
    "# 1. Importing required packages"
   ]
  },
  {
   "cell_type": "code",
   "execution_count": 1,
   "metadata": {
    "id": "_cshJrtFUyzK"
   },
   "outputs": [
    {
     "name": "stderr",
     "output_type": "stream",
     "text": [
      "c:\\users\\chintan maniyar\\appdata\\local\\programs\\python\\python36\\lib\\site-packages\\requests\\__init__.py:91: RequestsDependencyWarning: urllib3 (1.26.2) or chardet (3.0.4) doesn't match a supported version!\n",
      "  RequestsDependencyWarning)\n"
     ]
    }
   ],
   "source": [
    "%matplotlib inline\n",
    "import pylab\n",
    "from skimage.morphology import watershed\n",
    "import scipy.ndimage as ndimage\n",
    "from PIL import Image, ImagePalette\n",
    "\n",
    "from torch.nn import functional as F\n",
    "from torchvision.transforms import ToTensor, Normalize, Compose\n",
    "import torch\n",
    "\n",
    "import tifffile as tiff\n",
    "import cv2\n",
    "import random\n",
    "from pathlib import Path"
   ]
  },
  {
   "cell_type": "markdown",
   "metadata": {
    "id": "OBOJHt5cX51f"
   },
   "source": [
    "# 2. Declaring Globals and Mounting Drive"
   ]
  },
  {
   "cell_type": "code",
   "execution_count": 2,
   "metadata": {
    "id": "BD1AGiTuVfaV"
   },
   "outputs": [],
   "source": [
    "# seed value\n",
    "random.seed(42)\n",
    "\n",
    "# initializing palette\n",
    "VIS_PALATTE = ImagePalette\n",
    "\n",
    "# set the seed\n",
    "random.seed()\n",
    "\n",
    "# path for data\n",
    "PATH = 'gdrive/OCNN/'"
   ]
  },
  {
   "cell_type": "code",
   "execution_count": null,
   "metadata": {
    "colab": {
     "base_uri": "https://localhost:8080/"
    },
    "id": "zaq-ZmbfY-PE",
    "outputId": "bd90e486-a468-4db9-d2b2-07f126375b32"
   },
   "outputs": [
    {
     "name": "stdout",
     "output_type": "stream",
     "text": [
      "Mounted at /content/gdrive\n"
     ]
    }
   ],
   "source": [
    "from google.colab import drive\n",
    "drive.mount('/content/gdrive')"
   ]
  },
  {
   "cell_type": "code",
   "execution_count": null,
   "metadata": {
    "colab": {
     "base_uri": "https://localhost:8080/"
    },
    "id": "jLHRoN5O76sE",
    "outputId": "2e38bbfb-a07c-41d0-f3e5-a5e3c95f369d"
   },
   "outputs": [
    {
     "name": "stdout",
     "output_type": "stream",
     "text": [
      "gdrive\tmodels\tmodules  sample_data\n"
     ]
    }
   ],
   "source": [
    "!ls"
   ]
  },
  {
   "cell_type": "code",
   "execution_count": 41,
   "metadata": {
    "colab": {
     "base_uri": "https://localhost:8080/"
    },
    "id": "E86y_pXF8hav",
    "outputId": "4f645b31-a4b1-48b7-cf9a-ed44bc9f53a2"
   },
   "outputs": [
    {
     "name": "stdout",
     "output_type": "stream",
     "text": [
      "gdrive\tmodels\tmodules  sample_data\n"
     ]
    }
   ],
   "source": [
    "!ls"
   ]
  },
  {
   "cell_type": "code",
   "execution_count": 3,
   "metadata": {
    "colab": {
     "base_uri": "https://localhost:8080/",
     "height": 296
    },
    "id": "8VSqdacnYZ2m",
    "outputId": "b5412d01-3997-4a51-9d59-3c7b517f1968"
   },
   "outputs": [
    {
     "name": "stdout",
     "output_type": "stream",
     "text": [
      "No CUDA runtime is found, using CUDA_HOME='C:\\Program Files\\NVIDIA GPU Computing Toolkit\\CUDA\\v11.1'\n"
     ]
    },
    {
     "name": "stderr",
     "output_type": "stream",
     "text": [
      "c:\\users\\chintan maniyar\\appdata\\local\\programs\\python\\python36\\lib\\site-packages\\torch\\utils\\cpp_extension.py:184: UserWarning: Error checking compiler version for c++: [WinError 2] The system cannot find the file specified\n",
      "  warnings.warn('Error checking compiler version for {}: {}'.format(compiler, error))\n"
     ]
    },
    {
     "ename": "CalledProcessError",
     "evalue": "Command '['where', 'cl']' returned non-zero exit status 1.",
     "output_type": "error",
     "traceback": [
      "\u001b[1;31m---------------------------------------------------------------------------\u001b[0m",
      "\u001b[1;31mCalledProcessError\u001b[0m                        Traceback (most recent call last)",
      "\u001b[1;32m<ipython-input-3-b7b37541d9f9>\u001b[0m in \u001b[0;36m<module>\u001b[1;34m\u001b[0m\n\u001b[1;32m----> 1\u001b[1;33m \u001b[1;32mfrom\u001b[0m \u001b[0mmodels\u001b[0m\u001b[1;33m.\u001b[0m\u001b[0mternausnet2\u001b[0m \u001b[1;32mimport\u001b[0m \u001b[0mTernausNetV2\u001b[0m\u001b[1;33m\u001b[0m\u001b[0m\n\u001b[0m",
      "\u001b[1;32mE:\\Me\\GITHUB\\Object-Oriented-Deep-Learning-for-Building-Extraction\\Pretrained\\TernausnetV2\\models\\ternausnet2.py\u001b[0m in \u001b[0;36m<module>\u001b[1;34m\u001b[0m\n\u001b[0;32m      9\u001b[0m \u001b[1;32mfrom\u001b[0m \u001b[0mtorch\u001b[0m\u001b[1;33m.\u001b[0m\u001b[0mnn\u001b[0m \u001b[1;32mimport\u001b[0m \u001b[0mSequential\u001b[0m\u001b[1;33m\u001b[0m\u001b[0m\n\u001b[0;32m     10\u001b[0m \u001b[1;32mfrom\u001b[0m \u001b[0mcollections\u001b[0m \u001b[1;32mimport\u001b[0m \u001b[0mOrderedDict\u001b[0m\u001b[1;33m\u001b[0m\u001b[0m\n\u001b[1;32m---> 11\u001b[1;33m \u001b[1;32mfrom\u001b[0m \u001b[0mmodules\u001b[0m\u001b[1;33m.\u001b[0m\u001b[0mbn\u001b[0m \u001b[1;32mimport\u001b[0m \u001b[0mABN\u001b[0m\u001b[1;33m\u001b[0m\u001b[0m\n\u001b[0m\u001b[0;32m     12\u001b[0m \u001b[1;33m\u001b[0m\u001b[0m\n\u001b[0;32m     13\u001b[0m \u001b[1;32mfrom\u001b[0m \u001b[0mmodules\u001b[0m\u001b[1;33m.\u001b[0m\u001b[0mwider_resnet\u001b[0m \u001b[1;32mimport\u001b[0m \u001b[0mWiderResNet\u001b[0m\u001b[1;33m\u001b[0m\u001b[0m\n",
      "\u001b[1;32mE:\\Me\\GITHUB\\Object-Oriented-Deep-Learning-for-Building-Extraction\\Pretrained\\TernausnetV2\\modules\\bn.py\u001b[0m in \u001b[0;36m<module>\u001b[1;34m\u001b[0m\n\u001b[0;32m      7\u001b[0m \u001b[1;32mfrom\u001b[0m \u001b[0mqueue\u001b[0m \u001b[1;32mimport\u001b[0m \u001b[0mQueue\u001b[0m\u001b[1;33m\u001b[0m\u001b[0m\n\u001b[0;32m      8\u001b[0m \u001b[1;33m\u001b[0m\u001b[0m\n\u001b[1;32m----> 9\u001b[1;33m \u001b[1;32mfrom\u001b[0m \u001b[1;33m.\u001b[0m\u001b[0mfunctions\u001b[0m \u001b[1;32mimport\u001b[0m \u001b[1;33m(\u001b[0m\u001b[0mACT_ELU\u001b[0m\u001b[1;33m,\u001b[0m \u001b[0mACT_RELU\u001b[0m\u001b[1;33m,\u001b[0m \u001b[0mACT_LEAKY_RELU\u001b[0m\u001b[1;33m,\u001b[0m \u001b[0minplace_abn\u001b[0m\u001b[1;33m,\u001b[0m \u001b[0minplace_abn_sync\u001b[0m\u001b[1;33m)\u001b[0m\u001b[1;33m\u001b[0m\u001b[0m\n\u001b[0m\u001b[0;32m     10\u001b[0m \u001b[1;33m\u001b[0m\u001b[0m\n\u001b[0;32m     11\u001b[0m \u001b[1;33m\u001b[0m\u001b[0m\n",
      "\u001b[1;32mE:\\Me\\GITHUB\\Object-Oriented-Deep-Learning-for-Building-Extraction\\Pretrained\\TernausnetV2\\modules\\functions.py\u001b[0m in \u001b[0;36m<module>\u001b[1;34m\u001b[0m\n\u001b[0;32m     16\u001b[0m                     \u001b[1;34m\"inplace_abn_cuda.cu\"\u001b[0m\u001b[1;33m\u001b[0m\u001b[0m\n\u001b[0;32m     17\u001b[0m                 ]],\n\u001b[1;32m---> 18\u001b[1;33m                 extra_cuda_cflags=[\"--expt-extended-lambda\"])\n\u001b[0m\u001b[0;32m     19\u001b[0m \u001b[1;33m\u001b[0m\u001b[0m\n\u001b[0;32m     20\u001b[0m \u001b[1;31m# Activation names\u001b[0m\u001b[1;33m\u001b[0m\u001b[1;33m\u001b[0m\u001b[0m\n",
      "\u001b[1;32mc:\\users\\chintan maniyar\\appdata\\local\\programs\\python\\python36\\lib\\site-packages\\torch\\utils\\cpp_extension.py\u001b[0m in \u001b[0;36mload\u001b[1;34m(name, sources, extra_cflags, extra_cuda_cflags, extra_ldflags, extra_include_paths, build_directory, verbose, with_cuda, is_python_module)\u001b[0m\n\u001b[0;32m    643\u001b[0m         \u001b[0mverbose\u001b[0m\u001b[1;33m,\u001b[0m\u001b[1;33m\u001b[0m\u001b[0m\n\u001b[0;32m    644\u001b[0m         \u001b[0mwith_cuda\u001b[0m\u001b[1;33m,\u001b[0m\u001b[1;33m\u001b[0m\u001b[0m\n\u001b[1;32m--> 645\u001b[1;33m         is_python_module)\n\u001b[0m\u001b[0;32m    646\u001b[0m \u001b[1;33m\u001b[0m\u001b[0m\n\u001b[0;32m    647\u001b[0m \u001b[1;33m\u001b[0m\u001b[0m\n",
      "\u001b[1;32mc:\\users\\chintan maniyar\\appdata\\local\\programs\\python\\python36\\lib\\site-packages\\torch\\utils\\cpp_extension.py\u001b[0m in \u001b[0;36m_jit_compile\u001b[1;34m(name, sources, extra_cflags, extra_cuda_cflags, extra_ldflags, extra_include_paths, build_directory, verbose, with_cuda, is_python_module)\u001b[0m\n\u001b[0;32m    812\u001b[0m                     \u001b[0mbuild_directory\u001b[0m\u001b[1;33m=\u001b[0m\u001b[0mbuild_directory\u001b[0m\u001b[1;33m,\u001b[0m\u001b[1;33m\u001b[0m\u001b[0m\n\u001b[0;32m    813\u001b[0m                     \u001b[0mverbose\u001b[0m\u001b[1;33m=\u001b[0m\u001b[0mverbose\u001b[0m\u001b[1;33m,\u001b[0m\u001b[1;33m\u001b[0m\u001b[0m\n\u001b[1;32m--> 814\u001b[1;33m                     with_cuda=with_cuda)\n\u001b[0m\u001b[0;32m    815\u001b[0m             \u001b[1;32mfinally\u001b[0m\u001b[1;33m:\u001b[0m\u001b[1;33m\u001b[0m\u001b[0m\n\u001b[0;32m    816\u001b[0m                 \u001b[0mbaton\u001b[0m\u001b[1;33m.\u001b[0m\u001b[0mrelease\u001b[0m\u001b[1;33m(\u001b[0m\u001b[1;33m)\u001b[0m\u001b[1;33m\u001b[0m\u001b[0m\n",
      "\u001b[1;32mc:\\users\\chintan maniyar\\appdata\\local\\programs\\python\\python36\\lib\\site-packages\\torch\\utils\\cpp_extension.py\u001b[0m in \u001b[0;36m_write_ninja_file_and_build\u001b[1;34m(name, sources, extra_cflags, extra_cuda_cflags, extra_ldflags, extra_include_paths, build_directory, verbose, with_cuda)\u001b[0m\n\u001b[0;32m    857\u001b[0m         \u001b[0mextra_ldflags\u001b[0m\u001b[1;33m=\u001b[0m\u001b[0mextra_ldflags\u001b[0m \u001b[1;32mor\u001b[0m \u001b[1;33m[\u001b[0m\u001b[1;33m]\u001b[0m\u001b[1;33m,\u001b[0m\u001b[1;33m\u001b[0m\u001b[0m\n\u001b[0;32m    858\u001b[0m         \u001b[0mextra_include_paths\u001b[0m\u001b[1;33m=\u001b[0m\u001b[0mextra_include_paths\u001b[0m \u001b[1;32mor\u001b[0m \u001b[1;33m[\u001b[0m\u001b[1;33m]\u001b[0m\u001b[1;33m,\u001b[0m\u001b[1;33m\u001b[0m\u001b[0m\n\u001b[1;32m--> 859\u001b[1;33m         with_cuda=with_cuda)\n\u001b[0m\u001b[0;32m    860\u001b[0m \u001b[1;33m\u001b[0m\u001b[0m\n\u001b[0;32m    861\u001b[0m     \u001b[1;32mif\u001b[0m \u001b[0mverbose\u001b[0m\u001b[1;33m:\u001b[0m\u001b[1;33m\u001b[0m\u001b[0m\n",
      "\u001b[1;32mc:\\users\\chintan maniyar\\appdata\\local\\programs\\python\\python36\\lib\\site-packages\\torch\\utils\\cpp_extension.py\u001b[0m in \u001b[0;36m_write_ninja_file\u001b[1;34m(path, name, sources, extra_cflags, extra_cuda_cflags, extra_ldflags, extra_include_paths, with_cuda)\u001b[0m\n\u001b[0;32m   1062\u001b[0m     \u001b[1;32mif\u001b[0m \u001b[0mIS_WINDOWS\u001b[0m\u001b[1;33m:\u001b[0m\u001b[1;33m\u001b[0m\u001b[0m\n\u001b[0;32m   1063\u001b[0m         cl_paths = subprocess.check_output(['where',\n\u001b[1;32m-> 1064\u001b[1;33m                                             'cl']).decode().split('\\r\\n')\n\u001b[0m\u001b[0;32m   1065\u001b[0m         \u001b[1;32mif\u001b[0m \u001b[0mlen\u001b[0m\u001b[1;33m(\u001b[0m\u001b[0mcl_paths\u001b[0m\u001b[1;33m)\u001b[0m \u001b[1;33m>=\u001b[0m \u001b[1;36m1\u001b[0m\u001b[1;33m:\u001b[0m\u001b[1;33m\u001b[0m\u001b[0m\n\u001b[0;32m   1066\u001b[0m             \u001b[0mcl_path\u001b[0m \u001b[1;33m=\u001b[0m \u001b[0mos\u001b[0m\u001b[1;33m.\u001b[0m\u001b[0mpath\u001b[0m\u001b[1;33m.\u001b[0m\u001b[0mdirname\u001b[0m\u001b[1;33m(\u001b[0m\u001b[0mcl_paths\u001b[0m\u001b[1;33m[\u001b[0m\u001b[1;36m0\u001b[0m\u001b[1;33m]\u001b[0m\u001b[1;33m)\u001b[0m\u001b[1;33m.\u001b[0m\u001b[0mreplace\u001b[0m\u001b[1;33m(\u001b[0m\u001b[1;34m':'\u001b[0m\u001b[1;33m,\u001b[0m \u001b[1;34m'$:'\u001b[0m\u001b[1;33m)\u001b[0m\u001b[1;33m\u001b[0m\u001b[0m\n",
      "\u001b[1;32mc:\\users\\chintan maniyar\\appdata\\local\\programs\\python\\python36\\lib\\subprocess.py\u001b[0m in \u001b[0;36mcheck_output\u001b[1;34m(timeout, *popenargs, **kwargs)\u001b[0m\n\u001b[0;32m    334\u001b[0m \u001b[1;33m\u001b[0m\u001b[0m\n\u001b[0;32m    335\u001b[0m     return run(*popenargs, stdout=PIPE, timeout=timeout, check=True,\n\u001b[1;32m--> 336\u001b[1;33m                **kwargs).stdout\n\u001b[0m\u001b[0;32m    337\u001b[0m \u001b[1;33m\u001b[0m\u001b[0m\n\u001b[0;32m    338\u001b[0m \u001b[1;33m\u001b[0m\u001b[0m\n",
      "\u001b[1;32mc:\\users\\chintan maniyar\\appdata\\local\\programs\\python\\python36\\lib\\subprocess.py\u001b[0m in \u001b[0;36mrun\u001b[1;34m(input, timeout, check, *popenargs, **kwargs)\u001b[0m\n\u001b[0;32m    416\u001b[0m         \u001b[1;32mif\u001b[0m \u001b[0mcheck\u001b[0m \u001b[1;32mand\u001b[0m \u001b[0mretcode\u001b[0m\u001b[1;33m:\u001b[0m\u001b[1;33m\u001b[0m\u001b[0m\n\u001b[0;32m    417\u001b[0m             raise CalledProcessError(retcode, process.args,\n\u001b[1;32m--> 418\u001b[1;33m                                      output=stdout, stderr=stderr)\n\u001b[0m\u001b[0;32m    419\u001b[0m     \u001b[1;32mreturn\u001b[0m \u001b[0mCompletedProcess\u001b[0m\u001b[1;33m(\u001b[0m\u001b[0mprocess\u001b[0m\u001b[1;33m.\u001b[0m\u001b[0margs\u001b[0m\u001b[1;33m,\u001b[0m \u001b[0mretcode\u001b[0m\u001b[1;33m,\u001b[0m \u001b[0mstdout\u001b[0m\u001b[1;33m,\u001b[0m \u001b[0mstderr\u001b[0m\u001b[1;33m)\u001b[0m\u001b[1;33m\u001b[0m\u001b[0m\n\u001b[0;32m    420\u001b[0m \u001b[1;33m\u001b[0m\u001b[0m\n",
      "\u001b[1;31mCalledProcessError\u001b[0m: Command '['where', 'cl']' returned non-zero exit status 1."
     ]
    }
   ],
   "source": [
    "from models.ternausnet2 import TernausNetV2"
   ]
  },
  {
   "cell_type": "code",
   "execution_count": 1,
   "metadata": {
    "id": "z4WvIN6zbubC"
   },
   "outputs": [
    {
     "name": "stdout",
     "output_type": "stream",
     "text": [
      "1.0.0\n"
     ]
    }
   ],
   "source": [
    "import torch \n",
    "print(torch.__version__)"
   ]
  },
  {
   "cell_type": "code",
   "execution_count": null,
   "metadata": {},
   "outputs": [],
   "source": []
  }
 ],
 "metadata": {
  "colab": {
   "collapsed_sections": [],
   "name": "FCNs for Building Extraction",
   "provenance": [],
   "toc_visible": true
  },
  "kernelspec": {
   "display_name": "Python 3",
   "language": "python",
   "name": "python3"
  },
  "language_info": {
   "codemirror_mode": {
    "name": "ipython",
    "version": 3
   },
   "file_extension": ".py",
   "mimetype": "text/x-python",
   "name": "python",
   "nbconvert_exporter": "python",
   "pygments_lexer": "ipython3",
   "version": "3.6.5rc1"
  }
 },
 "nbformat": 4,
 "nbformat_minor": 1
}
